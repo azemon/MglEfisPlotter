{
 "cells": [
  {
   "cell_type": "markdown",
   "metadata": {},
   "source": [
    "# MGL EFIS Plotter\n",
    "\n",
    "Reads MGL Avionics `IEFISBB.DAT` files and graphs the data. \n",
    "Runs as a Jupyter notebook.\n",
    "\n",
    "## Getting Started\n",
    "\n",
    "1. Install Jupyter\n",
    "1. Open this notebook, `README.ipynb`\n",
    "1. Alternatively, jump right in with the [MglEfisPlotter](notebooks/MglEfisPlotter.ipynb) notebook in [notebooks/MglEfisPlotter.ipynb](notebooks/MglEfisPlotter.ipynb).\n",
    "\n",
    "## Author\n",
    "\n",
    "Art Zemon <br>\n",
    "art@zemon.name <br>\n",
    "https://cheerfulcurmudgeon.com/"
   ]
  }
 ],
 "metadata": {
  "kernelspec": {
   "display_name": "Python 3",
   "language": "python",
   "name": "python3"
  },
  "language_info": {
   "codemirror_mode": {
    "name": "ipython",
    "version": 3
   },
   "file_extension": ".py",
   "mimetype": "text/x-python",
   "name": "python",
   "nbconvert_exporter": "python",
   "pygments_lexer": "ipython3",
   "version": "3.6.7"
  }
 },
 "nbformat": 4,
 "nbformat_minor": 2
}
