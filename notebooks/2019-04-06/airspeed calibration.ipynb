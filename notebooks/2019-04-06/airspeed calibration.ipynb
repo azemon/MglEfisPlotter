{
 "cells": [
  {
   "cell_type": "markdown",
   "metadata": {},
   "source": [
    "# Airspeed Calibration"
   ]
  },
  {
   "cell_type": "code",
   "execution_count": 1,
   "metadata": {
    "scrolled": false
   },
   "outputs": [],
   "source": [
    "from mgl_efis_plotter import *\n",
    "import pandas as pd"
   ]
  },
  {
   "cell_type": "code",
   "execution_count": 2,
   "metadata": {},
   "outputs": [],
   "source": [
    "import matplotlib.pyplot as plt\n",
    "plt.rcParams['figure.figsize'] = [14, 9]"
   ]
  },
  {
   "cell_type": "code",
   "execution_count": 3,
   "metadata": {
    "scrolled": true
   },
   "outputs": [
    {
     "name": "stdout",
     "output_type": "stream",
     "text": [
      "0 Flight at 2019-04-06 12:11:23 to 2019-04-06 13:53:17,   29,244 messages\n",
      "1 Flight at 2019-04-06 12:11:21 to 2019-04-06 12:11:21,   7 messages\n"
     ]
    }
   ],
   "source": [
    "datafile = 'IEFIS.REC'\n",
    "\n",
    "flights = create_flights(datafile, Config())\n",
    "for i in range(0, len(flights)):\n",
    "    print(i, flights[i])\n",
    "f = flights[0]\n",
    "p = Plot(f)"
   ]
  },
  {
   "cell_type": "markdown",
   "metadata": {},
   "source": [
    "# Calculate Average Groundspeed"
   ]
  },
  {
   "cell_type": "code",
   "execution_count": 4,
   "metadata": {},
   "outputs": [
    {
     "name": "stdout",
     "output_type": "stream",
     "text": [
      "145.57803796748894\n",
      "124.60515658747298\n",
      "126.99368665891345\n",
      "Average Ground Speed = 132.39229373795845\n"
     ]
    }
   ],
   "source": [
    "gs_data = f.list_data('groundSpeed')\n",
    "gs = pd.DataFrame(gs_data, index=gs_data['minutes'], columns=['groundSpeed'])\n",
    "\n",
    "gs000 = float(gs.loc[36.0:37.5].mean())\n",
    "gs120 = float(gs.loc[44.5:47.0].mean())\n",
    "gs240 = float(gs.loc[48.0:50.0].mean())\n",
    "\n",
    "print(gs000)\n",
    "print(gs120)\n",
    "print(gs240)\n",
    "\n",
    "average_ground_speed = (gs000 + gs120 + gs240) / 3\n",
    "print('Average Ground Speed =', average_ground_speed)"
   ]
  },
  {
   "cell_type": "markdown",
   "metadata": {},
   "source": [
    "# Calculate Average Airspeed"
   ]
  },
  {
   "cell_type": "code",
   "execution_count": 5,
   "metadata": {},
   "outputs": [
    {
     "name": "stdout",
     "output_type": "stream",
     "text": [
      "136.18402835465469\n",
      "131.31923639657217\n",
      "133.06513696726043\n",
      "Average Airspeed = 133.52280057282908\n"
     ]
    }
   ],
   "source": [
    "asi_data = f.list_data('asi')\n",
    "asi = pd.DataFrame(asi_data, index=asi_data['minutes'], columns=['asi'])\n",
    "\n",
    "asi000 = float(asi.loc[36.0:37.5].mean())\n",
    "asi120 = float(asi.loc[44.5:47.0].mean())\n",
    "asi240 = float(asi.loc[48.0:50.0].mean())\n",
    "\n",
    "print(asi000)\n",
    "print(asi120)\n",
    "print(asi240)\n",
    "\n",
    "average_airspeed = (asi000 + asi120 + asi240) / 3\n",
    "print('Average Airspeed =', average_airspeed)"
   ]
  },
  {
   "cell_type": "markdown",
   "metadata": {},
   "source": [
    "# Airspeed Error"
   ]
  },
  {
   "cell_type": "code",
   "execution_count": 6,
   "metadata": {},
   "outputs": [
    {
     "data": {
      "text/plain": [
       "-1.13050683487063"
      ]
     },
     "execution_count": 6,
     "metadata": {},
     "output_type": "execute_result"
    }
   ],
   "source": [
    "average_ground_speed - average_airspeed"
   ]
  }
 ],
 "metadata": {
  "kernelspec": {
   "display_name": "Python 3",
   "language": "python",
   "name": "python3"
  },
  "language_info": {
   "codemirror_mode": {
    "name": "ipython",
    "version": 3
   },
   "file_extension": ".py",
   "mimetype": "text/x-python",
   "name": "python",
   "nbconvert_exporter": "python",
   "pygments_lexer": "ipython3",
   "version": "3.7.2+"
  }
 },
 "nbformat": 4,
 "nbformat_minor": 2
}
