{
 "cells": [
  {
   "cell_type": "markdown",
   "metadata": {},
   "source": [
    "# Fuel Flow"
   ]
  },
  {
   "cell_type": "code",
   "execution_count": 1,
   "metadata": {
    "scrolled": false
   },
   "outputs": [],
   "source": [
    "from mgl_efis_plotter import *\n",
    "import pandas as pd"
   ]
  },
  {
   "cell_type": "code",
   "execution_count": 2,
   "metadata": {},
   "outputs": [],
   "source": [
    "import matplotlib.pyplot as plt\n",
    "plt.rcParams['figure.figsize'] = [14, 9]"
   ]
  },
  {
   "cell_type": "code",
   "execution_count": 3,
   "metadata": {
    "scrolled": true
   },
   "outputs": [
    {
     "name": "stdout",
     "output_type": "stream",
     "text": [
      "0 Flight at 2019-04-06 12:11:23 to 2019-04-06 13:53:17,   29,244 messages\n",
      "1 Flight at 2019-04-06 12:11:21 to 2019-04-06 12:11:21,   7 messages\n"
     ]
    }
   ],
   "source": [
    "datafile = 'IEFIS.REC'\n",
    "\n",
    "flights = create_flights(datafile, Config())\n",
    "for i in range(0, len(flights)):\n",
    "    print(i, flights[i])\n",
    "f = flights[0]\n",
    "p = Plot(f)"
   ]
  },
  {
   "cell_type": "code",
   "execution_count": 4,
   "metadata": {},
   "outputs": [],
   "source": [
    "#p.plot2(['rpm', 'manifoldPressure', 'fuelFlow'], xlim=(18, 48), ylim=(2300, 2500)).show()"
   ]
  },
  {
   "cell_type": "code",
   "execution_count": 5,
   "metadata": {},
   "outputs": [],
   "source": [
    "ff_data = f.list_data('fuelFlow')\n",
    "ff = pd.DataFrame(ff_data, index=ff_data['minutes'], columns=['fuelFlow'])\n",
    "\n",
    "asi_data = f.list_data('asi')\n",
    "asi = pd.DataFrame(asi_data, index=asi_data['minutes'], columns=['asi'])"
   ]
  },
  {
   "cell_type": "markdown",
   "metadata": {},
   "source": [
    "# Correct the Fuel Flow Measurements"
   ]
  },
  {
   "cell_type": "code",
   "execution_count": 6,
   "metadata": {},
   "outputs": [],
   "source": [
    "correction = 7 / 18\n",
    "ff['fuelFlow'] = ff['fuelFlow'] * correction"
   ]
  },
  {
   "cell_type": "markdown",
   "metadata": {},
   "source": [
    "# Calculate Average Fuel Flow"
   ]
  },
  {
   "cell_type": "code",
   "execution_count": 7,
   "metadata": {},
   "outputs": [
    {
     "name": "stdout",
     "output_type": "stream",
     "text": [
      "fuel flow @ 75% = 11.589352050565791\n",
      "fuel flow @ 65% = 8.371649907044901\n"
     ]
    }
   ],
   "source": [
    "ff75 = float(ff.loc[18:48].mean())\n",
    "ff65 = float(ff.loc[56:69].mean())\n",
    "print('fuel flow @ 75% =', ff75)\n",
    "print('fuel flow @ 65% =', ff65)"
   ]
  },
  {
   "cell_type": "markdown",
   "metadata": {},
   "source": [
    "# Calculate Range and Endurance"
   ]
  },
  {
   "cell_type": "code",
   "execution_count": 9,
   "metadata": {},
   "outputs": [
    {
     "name": "stdout",
     "output_type": "stream",
     "text": [
      "airspeed @ 75% = 132.65814670655223\n",
      "airspeed @ 65% = 124.5666266944043\n"
     ]
    }
   ],
   "source": [
    "usable_fuel = 46\n",
    "\n",
    "asi75 = float(asi.loc[18:48].mean())\n",
    "asi65 = float(asi.loc[56:69].mean())\n",
    "print('airspeed @ 75% =', asi75)\n",
    "print('airspeed @ 65% =', asi65)"
   ]
  },
  {
   "cell_type": "markdown",
   "metadata": {},
   "source": [
    "## 75% Power"
   ]
  },
  {
   "cell_type": "code",
   "execution_count": 12,
   "metadata": {},
   "outputs": [
    {
     "name": "stdout",
     "output_type": "stream",
     "text": [
      "Endurance = 3.9691606398093917\n",
      "Range =  526.541494457707\n",
      "Range with 1 hour reserve =  393.88334775115476\n"
     ]
    }
   ],
   "source": [
    "e = usable_fuel / ff75\n",
    "r = e * asi75\n",
    "print('Endurance =', e)\n",
    "print('Range = ', r)\n",
    "print('Range with 1 hour reserve = ', (e - 1) * asi75)"
   ]
  },
  {
   "cell_type": "markdown",
   "metadata": {},
   "source": [
    "## 65% Power"
   ]
  },
  {
   "cell_type": "code",
   "execution_count": 13,
   "metadata": {},
   "outputs": [
    {
     "name": "stdout",
     "output_type": "stream",
     "text": [
      "Endurance = 5.494735268526952\n",
      "Range =  684.4606369791743\n",
      "Range with 1 hour reserve =  559.8940102847699\n"
     ]
    }
   ],
   "source": [
    "e = usable_fuel / ff65\n",
    "r = e * asi65\n",
    "print('Endurance =', e)\n",
    "print('Range = ', r)\n",
    "print('Range with 1 hour reserve = ', (e - 1) * asi65)"
   ]
  }
 ],
 "metadata": {
  "kernelspec": {
   "display_name": "Python 3",
   "language": "python",
   "name": "python3"
  },
  "language_info": {
   "codemirror_mode": {
    "name": "ipython",
    "version": 3
   },
   "file_extension": ".py",
   "mimetype": "text/x-python",
   "name": "python",
   "nbconvert_exporter": "python",
   "pygments_lexer": "ipython3",
   "version": "3.7.2+"
  }
 },
 "nbformat": 4,
 "nbformat_minor": 2
}
